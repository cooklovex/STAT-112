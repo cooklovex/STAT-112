{
 "cells": [
  {
   "cell_type": "code",
   "execution_count": null,
   "id": "initial_id",
   "metadata": {
    "collapsed": true
   },
   "outputs": [],
   "source": [
    "import pandas as pd\n",
    "import matplotlib.pyplot as plt\n",
    "import seaborn as sns\n",
    "\n",
    "# Load the dataset\n",
    "file_path = \"C:/Users/berka/Downloads/cleaned_university_students_data.csv\"\n",
    "df = pd.read_csv(file_path)\n",
    "\n",
    "# Group daily sleep hours into bins for categorization\n",
    "df['Sleep Hour Range'] = pd.cut(df['Daily Sleep Hours'], bins=[0, 4, 6, 8, 10, 12], labels=['0-4', '4-6', '6-8', '8-10', '10-12'])\n",
    "\n",
    "# Box plot\n",
    "plt.figure(figsize=(10, 6))\n",
    "sns.boxplot(x='Sleep Hour Range', y='Daily Screen Time Hours', data=df)\n",
    "plt.title('Daily Screen Time vs Sleep Hour Ranges', fontsize=14)\n",
    "plt.xlabel('Sleep Hour Range (Hours)', fontsize=12)\n",
    "plt.ylabel('Daily Screen Time Hours', fontsize=12)\n",
    "plt.grid(alpha=0.3)\n",
    "plt.show()\n"
   ]
  }
 ],
 "metadata": {
  "kernelspec": {
   "display_name": "Python 3",
   "language": "python",
   "name": "python3"
  },
  "language_info": {
   "codemirror_mode": {
    "name": "ipython",
    "version": 2
   },
   "file_extension": ".py",
   "mimetype": "text/x-python",
   "name": "python",
   "nbconvert_exporter": "python",
   "pygments_lexer": "ipython2",
   "version": "2.7.6"
  }
 },
 "nbformat": 4,
 "nbformat_minor": 5
}
