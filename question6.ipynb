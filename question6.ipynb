{
 "cells": [
  {
   "cell_type": "code",
   "execution_count": null,
   "id": "initial_id",
   "metadata": {
    "collapsed": true
   },
   "outputs": [],
   "source": [
    "import pandas as pd\n",
    "import matplotlib.pyplot as plt\n",
    "import seaborn as sns\n",
    "\n",
    "# Load the dataset\n",
    "file_path = \"C:/Users/berka/Downloads/cleaned_university_students_data.csv\"\n",
    "data = pd.read_csv(file_path)\n",
    "\n",
    "# Remove rows where the Daily Screen Time is in the 12-16 hours range\n",
    "data = data[(data['Daily Screen Time Hours'] < 12)]\n",
    "\n",
    "# Categorize daily screen time into ranges\n",
    "data['Screen Time Range'] = pd.cut(data['Daily Screen Time Hours'], bins=[0, 4, 8, 12], labels=['0-4', '4-8', '8-12'])\n",
    "\n",
    "# Create a violin plot\n",
    "plt.figure(figsize=(10, 6))\n",
    "sns.violinplot(x='Screen Time Range', y='Exam Stress Level', data=data, palette='muted', inner='quartile')\n",
    "plt.title('Distribution of Exam Stress Levels by Daily Screen Time Range', fontsize=14)\n",
    "plt.xlabel('Daily Screen Time Range (Hours)', fontsize=12)\n",
    "plt.ylabel('Exam Stress Level', fontsize=12)\n",
    "plt.grid(alpha=0.3)\n",
    "plt.show()\n"
   ]
  }
 ],
 "metadata": {
  "kernelspec": {
   "display_name": "Python 3",
   "language": "python",
   "name": "python3"
  },
  "language_info": {
   "codemirror_mode": {
    "name": "ipython",
    "version": 2
   },
   "file_extension": ".py",
   "mimetype": "text/x-python",
   "name": "python",
   "nbconvert_exporter": "python",
   "pygments_lexer": "ipython2",
   "version": "2.7.6"
  }
 },
 "nbformat": 4,
 "nbformat_minor": 5
}
