{
 "cells": [
  {
   "cell_type": "code",
   "execution_count": null,
   "id": "initial_id",
   "metadata": {
    "collapsed": true
   },
   "outputs": [],
   "source": [
    "import pandas as pd\n",
    "import matplotlib.pyplot as plt\n",
    "import seaborn as sns\n",
    "\n",
    "# Load the dataset\n",
    "file_path = \"C:/Users/berka/Downloads/cleaned_university_students_data.csv\"\n",
    "data = pd.read_csv(file_path)\n",
    "\n",
    "# Categorize weekly study hours into ranges\n",
    "data['Study Hour Range'] = pd.cut(data['Weekly Study Hours'], bins=[0, 10, 20, 30, 40, 50], labels=['0-10', '10-20', '20-30', '30-40', '40-50'])\n",
    "\n",
    "# Calculate the average daily sleep duration for each study hour range\n",
    "average_sleep = data.groupby('Study Hour Range')['Daily Sleep Hours'].mean().reset_index()\n",
    "\n",
    "# Create a heatmap\n",
    "plt.figure(figsize=(8, 6))\n",
    "heatmap_data = average_sleep.pivot_table(index='Study Hour Range', values='Daily Sleep Hours')\n",
    "sns.heatmap(heatmap_data, annot=True, cmap='coolwarm', cbar_kws={'label': 'Average Daily Sleep Hours'})\n",
    "plt.title('Average Daily Sleep Duration by Weekly Study Hour Range', fontsize=14)\n",
    "plt.xlabel('Weekly Study Hour Range', fontsize=12)\n",
    "plt.ylabel('Average Daily Sleep Hours', fontsize=12)\n",
    "plt.yticks(rotation=0)\n",
    "plt.show()\n"
   ]
  }
 ],
 "metadata": {
  "kernelspec": {
   "display_name": "Python 3",
   "language": "python",
   "name": "python3"
  },
  "language_info": {
   "codemirror_mode": {
    "name": "ipython",
    "version": 2
   },
   "file_extension": ".py",
   "mimetype": "text/x-python",
   "name": "python",
   "nbconvert_exporter": "python",
   "pygments_lexer": "ipython2",
   "version": "2.7.6"
  }
 },
 "nbformat": 4,
 "nbformat_minor": 5
}
