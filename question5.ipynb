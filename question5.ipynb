{
 "cells": [
  {
   "cell_type": "code",
   "execution_count": null,
   "id": "initial_id",
   "metadata": {
    "collapsed": true
   },
   "outputs": [],
   "source": [
    "import pandas as pd\n",
    "import matplotlib.pyplot as plt\n",
    "\n",
    "# Load the dataset\n",
    "file_path = \"C:/Users/berka/Downloads/cleaned_university_students_data.csv\"\n",
    "data = pd.read_csv(file_path)\n",
    "\n",
    "# Calculate the average sleep duration for each exam stress level\n",
    "average_sleep = data.groupby('Exam Stress Level')['Daily Sleep Hours'].mean()\n",
    "\n",
    "# Create a bar plot\n",
    "plt.figure(figsize=(10, 6))\n",
    "average_sleep.plot(kind='bar', color='lightblue', edgecolor='black')\n",
    "plt.title('Average Daily Sleep Duration by Exam Stress Level', fontsize=14)\n",
    "plt.xlabel('Exam Stress Level', fontsize=12)\n",
    "plt.ylabel('Average Daily Sleep Hours', fontsize=12)\n",
    "plt.grid(alpha=0.3, linestyle='--')\n",
    "plt.xticks(rotation=0)\n",
    "plt.show()\n",
    "\n",
    "# Print the averages for verification\n",
    "print(average_sleep)\n"
   ]
  }
 ],
 "metadata": {
  "kernelspec": {
   "display_name": "Python 3",
   "language": "python",
   "name": "python3"
  },
  "language_info": {
   "codemirror_mode": {
    "name": "ipython",
    "version": 2
   },
   "file_extension": ".py",
   "mimetype": "text/x-python",
   "name": "python",
   "nbconvert_exporter": "python",
   "pygments_lexer": "ipython2",
   "version": "2.7.6"
  }
 },
 "nbformat": 4,
 "nbformat_minor": 5
}
