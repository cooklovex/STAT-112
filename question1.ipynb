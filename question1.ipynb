{
 "cells": [
  {
   "cell_type": "code",
   "execution_count": null,
   "id": "initial_id",
   "metadata": {
    "collapsed": true
   },
   "outputs": [],
   "source": [
    "import pandas as pd\n",
    "import matplotlib.pyplot as plt\n",
    "import seaborn as sns\n",
    "\n",
    "# Load the dataset\n",
    "file_path = 'C:/Users/berka/Downloads/cleaned_university_students_data.csv'\n",
    "df = pd.read_csv(file_path)\n",
    "\n",
    "# Scatter plot with a trendline\n",
    "plt.figure(figsize=(10, 6))\n",
    "sns.regplot(x='Weekly Study Hours', y='Exam Stress Level', data=df, scatter_kws={'alpha':0.5}, line_kws={'color': 'red'})\n",
    "plt.title('Relationship Between Weekly Study Hours and Exam Stress Level', fontsize=14)\n",
    "plt.xlabel('Weekly Study Hours', fontsize=12)\n",
    "plt.ylabel('Exam Stress Level', fontsize=12)\n",
    "plt.grid(alpha=0.3)\n",
    "plt.show()\n"
   ]
  }
 ],
 "metadata": {
  "kernelspec": {
   "display_name": "Python 3",
   "language": "python",
   "name": "python3"
  },
  "language_info": {
   "codemirror_mode": {
    "name": "ipython",
    "version": 2
   },
   "file_extension": ".py",
   "mimetype": "text/x-python",
   "name": "python",
   "nbconvert_exporter": "python",
   "pygments_lexer": "ipython2",
   "version": "2.7.6"
  }
 },
 "nbformat": 4,
 "nbformat_minor": 5
}
