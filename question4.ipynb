{
 "cells": [
  {
   "cell_type": "code",
   "execution_count": null,
   "id": "initial_id",
   "metadata": {
    "collapsed": true
   },
   "outputs": [],
   "source": [
    "import pandas as pd\n",
    "import matplotlib.pyplot as plt\n",
    "\n",
    "# Load the dataset\n",
    "file_path = \"C:/Users/berka/Downloads/cleaned_university_students_data.csv\"\n",
    "data = pd.read_csv(file_path)\n",
    "\n",
    "# Remove rows where the Daily Screen Time is in the 12-16 hours range\n",
    "data = data[(data['Daily Screen Time Hours'] < 12)]\n",
    "\n",
    "# Categorize daily screen time into ranges\n",
    "data['Screen Time Range'] = pd.cut(data['Daily Screen Time Hours'], bins=[0, 4, 8, 12], labels=['0-4', '4-8', '8-12'])\n",
    "\n",
    "# Calculate the mean exam stress level for each screen time range\n",
    "average_stress = data.groupby('Screen Time Range')['Exam Stress Level'].mean()\n",
    "\n",
    "# Create a bar plot\n",
    "plt.figure(figsize=(10, 6))\n",
    "average_stress.plot(kind='bar', color='skyblue', edgecolor='black')\n",
    "plt.title('Average Exam Stress Level by Screen Time Range', fontsize=14)\n",
    "plt.xlabel('Daily Screen Time Range (Hours)', fontsize=12)\n",
    "plt.ylabel('Average Exam Stress Level', fontsize=12)\n",
    "plt.grid(alpha=0.3, linestyle='--')\n",
    "plt.xticks(rotation=0)\n",
    "plt.show()\n",
    "\n",
    "# Print the averages for verification\n",
    "print(average_stress)\n"
   ]
  }
 ],
 "metadata": {
  "kernelspec": {
   "display_name": "Python 3",
   "language": "python",
   "name": "python3"
  },
  "language_info": {
   "codemirror_mode": {
    "name": "ipython",
    "version": 2
   },
   "file_extension": ".py",
   "mimetype": "text/x-python",
   "name": "python",
   "nbconvert_exporter": "python",
   "pygments_lexer": "ipython2",
   "version": "2.7.6"
  }
 },
 "nbformat": 4,
 "nbformat_minor": 5
}
