{
 "cells": [
  {
   "cell_type": "code",
   "execution_count": null,
   "id": "initial_id",
   "metadata": {
    "collapsed": true
   },
   "outputs": [],
   "source": [
    "import pandas as pd\n",
    "import matplotlib.pyplot as plt\n",
    "\n",
    "# Load the dataset\n",
    "file_path = \"C:/Users/berka/Downloads/cleaned_university_students_data.csv\"\n",
    "data = pd.read_csv(file_path)\n",
    "\n",
    "# Select variables\n",
    "study_hours = data['Weekly Study Hours']\n",
    "sleep_hours = data['Daily Sleep Hours']\n",
    "\n",
    "# Create a scatter plot\n",
    "plt.figure(figsize=(10, 6))\n",
    "plt.scatter(study_hours, sleep_hours, alpha=0.6, edgecolor='k')\n",
    "plt.title('Relationship Between Weekly Study Hours and Daily Sleep Hours', fontsize=14)\n",
    "plt.xlabel('Weekly Study Hours', fontsize=12)\n",
    "plt.ylabel('Daily Sleep Hours', fontsize=12)\n",
    "plt.grid(True, linestyle='--', alpha=0.7)\n",
    "plt.show()\n",
    "\n",
    "# Overview of the data\n",
    "correlation = study_hours.corr(sleep_hours)\n",
    "print(f\"Correlation between study hours and sleep hours: {correlation:.2f}\")\n"
   ]
  }
 ],
 "metadata": {
  "kernelspec": {
   "display_name": "Python 3",
   "language": "python",
   "name": "python3"
  },
  "language_info": {
   "codemirror_mode": {
    "name": "ipython",
    "version": 2
   },
   "file_extension": ".py",
   "mimetype": "text/x-python",
   "name": "python",
   "nbconvert_exporter": "python",
   "pygments_lexer": "ipython2",
   "version": "2.7.6"
  }
 },
 "nbformat": 4,
 "nbformat_minor": 5
}
